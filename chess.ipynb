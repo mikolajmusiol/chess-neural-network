{
  "cells": [
    {
      "cell_type": "code",
      "execution_count": 3,
      "id": "4d1061bf-d24d-4f28-8efc-faec104f3e9a",
      "metadata": {
        "colab": {
          "base_uri": "https://localhost:8080/"
        },
        "id": "4d1061bf-d24d-4f28-8efc-faec104f3e9a",
        "outputId": "b1ae6593-2ea0-45e2-e60f-d3f00f9ad143"
      },
      "outputs": [
        {
          "output_type": "stream",
          "name": "stderr",
          "text": [
            "/usr/local/lib/python3.10/dist-packages/huggingface_hub/utils/_token.py:89: UserWarning: \n",
            "The secret `HF_TOKEN` does not exist in your Colab secrets.\n",
            "To authenticate with the Hugging Face Hub, create a token in your settings tab (https://huggingface.co/settings/tokens), set it as secret in your Google Colab and restart your session.\n",
            "You will be able to reuse this secret in all of your notebooks.\n",
            "Please note that authentication is recommended but still optional to access public models or datasets.\n",
            "  warnings.warn(\n"
          ]
        }
      ],
      "source": [
        "from datasets import load_dataset\n",
        "import pandas as pd\n",
        "import chess\n",
        "import numpy as np\n",
        "import tensorflow as tf\n",
        "\n",
        "subset = load_dataset(\"laion/strategic_game_chess\", data_files=\"chess_game_0001.parquet\")\n",
        "df = subset[\"train\"].to_pandas()"
      ]
    },
    {
      "cell_type": "code",
      "execution_count": 4,
      "id": "dbd6a97a-55ba-458e-8155-8c991e60a1c8",
      "metadata": {
        "id": "dbd6a97a-55ba-458e-8155-8c991e60a1c8"
      },
      "outputs": [],
      "source": [
        "df_moves = df[\"Moves\"].apply(lambda x: [str(i) for i in x])"
      ]
    },
    {
      "cell_type": "code",
      "execution_count": 5,
      "id": "5a104131-f99f-49dc-80cf-dc1f0cca886e",
      "metadata": {
        "id": "5a104131-f99f-49dc-80cf-dc1f0cca886e"
      },
      "outputs": [],
      "source": [
        "moves_array = np.array(df_moves)"
      ]
    },
    {
      "cell_type": "code",
      "execution_count": 6,
      "id": "198b8107-8465-4ce1-a1d2-26ff456e934c",
      "metadata": {
        "id": "198b8107-8465-4ce1-a1d2-26ff456e934c"
      },
      "outputs": [],
      "source": [
        "boards = []\n",
        "moves = []\n",
        "for board_moves in moves_array[:10000]:\n",
        "    board = chess.Board()\n",
        "    board_states = []\n",
        "    board_states_labels = []\n",
        "    for move_str in board_moves[:10]:\n",
        "        move = chess.Move.from_uci(move_str)\n",
        "        move_from = move.from_square\n",
        "        move_to = move.to_square\n",
        "        board_states_labels.append((move_from, move_to))\n",
        "        board_states.append(board.copy())\n",
        "        board.push(move)\n",
        "    white_states = board_states[::2]\n",
        "    white_states_labels = board_states_labels[::2]\n",
        "    moves.append(white_states_labels)\n",
        "    boards.append(white_states)"
      ]
    },
    {
      "cell_type": "code",
      "execution_count": null,
      "id": "dafe873f-def1-40ef-96ba-db99bf7ad692",
      "metadata": {
        "id": "dafe873f-def1-40ef-96ba-db99bf7ad692"
      },
      "outputs": [],
      "source": [
        "moves"
      ]
    },
    {
      "cell_type": "code",
      "execution_count": 7,
      "id": "e63dbdb0-7409-49ca-9361-be3723626f71",
      "metadata": {
        "id": "e63dbdb0-7409-49ca-9361-be3723626f71"
      },
      "outputs": [],
      "source": [
        "data = np.array(boards).astype(str)"
      ]
    },
    {
      "cell_type": "code",
      "execution_count": 31,
      "id": "cdde5f3a-3bf1-448e-beae-5b1891f237d6",
      "metadata": {
        "id": "cdde5f3a-3bf1-448e-beae-5b1891f237d6"
      },
      "outputs": [],
      "source": [
        "on_hot_mapping = {\".\": np.array([0,0,0,0,0,0]),\n",
        "                  \"P\": np.array([1,0,0,0,0,0]),\n",
        "                  \"N\": np.array([0,1,0,0,0,0]),\n",
        "                  \"B\": np.array([0,0,1,0,0,0]),\n",
        "                  \"R\": np.array([0,0,0,1,0,0]),\n",
        "                  \"Q\": np.array([0,0,0,0,1,0]),\n",
        "                  \"K\": np.array([0,0,0,0,0,1]),\n",
        "                  \"p\": np.array([-1,0,0,0,0,0]),\n",
        "                  \"n\": np.array([0,-1,0,0,0,0]),\n",
        "                  \"b\": np.array([0,0,-1,0,0,0]),\n",
        "                  \"r\": np.array([0,0,0,-1,0,0]),\n",
        "                  \"q\": np.array([0,0,0,0,-1,0]),\n",
        "                  \"k\": np.array([0,0,0,0,0,-1])}\n",
        "games_data = []\n",
        "games_labels = []\n",
        "for i in range(len(data)):\n",
        "    for j in range(len(data[i])):\n",
        "        data_split = np.array([row.split() for row in data[i][j].split(\"\\n\")])\n",
        "        labels_split = tf.keras.utils.to_categorical(moves[i][j], num_classes=64)\n",
        "        data_encoded_state = np.zeros([8, 8, 6])\n",
        "        for char, encoding in on_hot_mapping.items():\n",
        "                data_encoded_state[data_split == char] = encoding\n",
        "        games_data.append(np.array(data_encoded_state))\n",
        "        games_labels.append(labels_split)\n",
        "\n",
        "train_data = tf.constant(games_data[0 : int(len(games_data) * .70)])\n",
        "train_labels = tf.constant(games_labels[0 : int(len(games_labels) * .70)])\n",
        "test_data = tf.constant(games_data[int(len(games_data) * .70) : len(games_data)])\n",
        "test_labels = tf.constant(games_labels[int(len(games_labels) * .70) : len(games_labels)])"
      ]
    },
    {
      "cell_type": "code",
      "execution_count": 32,
      "id": "871d6d74-ed01-4f63-9ff0-f04e5aeeb036",
      "metadata": {
        "colab": {
          "base_uri": "https://localhost:8080/"
        },
        "id": "871d6d74-ed01-4f63-9ff0-f04e5aeeb036",
        "outputId": "a2c7cb4c-7336-4e51-db2b-3dfe236a57b2"
      },
      "outputs": [
        {
          "output_type": "execute_result",
          "data": {
            "text/plain": [
              "(TensorShape([35000, 8, 8, 6]),\n",
              " TensorShape([35000, 2, 64]),\n",
              " TensorShape([15000, 8, 8, 6]),\n",
              " TensorShape([15000, 2, 64]))"
            ]
          },
          "metadata": {},
          "execution_count": 32
        }
      ],
      "source": [
        "train_data.shape, train_labels.shape, test_data.shape, test_labels.shape"
      ]
    },
    {
      "cell_type": "code",
      "execution_count": 28,
      "id": "d93e646a-1210-4138-b2bc-a7c5e70108f3",
      "metadata": {
        "id": "d93e646a-1210-4138-b2bc-a7c5e70108f3"
      },
      "outputs": [],
      "source": [
        "input_layer = tf.keras.layers.Input(shape=(8,8,6))\n",
        "x = tf.keras.layers.Conv2D(32, (3, 3), activation='relu', padding='same', strides=1)(input_layer)\n",
        "x = tf.keras.layers.Conv2D(64, (3, 3), activation='relu', padding='same', strides=1)(x)\n",
        "x = tf.keras.layers.Conv2D(64, (3, 3), activation='relu', padding='same', strides=1)(x)\n",
        "x = tf.keras.layers.Flatten()(x)\n",
        "output1 = tf.keras.layers.Dense(64, activation=\"softmax\", name=\"output1\")(x)\n",
        "output2 = tf.keras.layers.Dense(64, activation=\"softmax\", name=\"output2\")(x)\n",
        "\n",
        "baseline_model = tf.keras.Model(inputs=input_layer, outputs=[output1, output2])\n",
        "\n",
        "baseline_model.compile(optimizer='adam', loss='categorical_crossentropy', metrics=['accuracy', 'accuracy'])"
      ]
    },
    {
      "cell_type": "code",
      "execution_count": 17,
      "id": "fc4441bb-7eaf-4a0b-b60b-8c0be7faed32",
      "metadata": {
        "colab": {
          "base_uri": "https://localhost:8080/",
          "height": 353
        },
        "id": "fc4441bb-7eaf-4a0b-b60b-8c0be7faed32",
        "outputId": "02092c7f-f3a7-42ce-8591-e514fb5568a7"
      },
      "outputs": [
        {
          "output_type": "display_data",
          "data": {
            "text/plain": [
              "\u001b[1mModel: \"functional\"\u001b[0m\n"
            ],
            "text/html": [
              "<pre style=\"white-space:pre;overflow-x:auto;line-height:normal;font-family:Menlo,'DejaVu Sans Mono',consolas,'Courier New',monospace\"><span style=\"font-weight: bold\">Model: \"functional\"</span>\n",
              "</pre>\n"
            ]
          },
          "metadata": {}
        },
        {
          "output_type": "display_data",
          "data": {
            "text/plain": [
              "┏━━━━━━━━━━━━━━━━━━━━━━━━━━━┳━━━━━━━━━━━━━━━━━━━━━━━━┳━━━━━━━━━━━━━━━━┳━━━━━━━━━━━━━━━━━━━━━━━━┓\n",
              "┃\u001b[1m \u001b[0m\u001b[1mLayer (type)             \u001b[0m\u001b[1m \u001b[0m┃\u001b[1m \u001b[0m\u001b[1mOutput Shape          \u001b[0m\u001b[1m \u001b[0m┃\u001b[1m \u001b[0m\u001b[1m       Param #\u001b[0m\u001b[1m \u001b[0m┃\u001b[1m \u001b[0m\u001b[1mConnected to          \u001b[0m\u001b[1m \u001b[0m┃\n",
              "┡━━━━━━━━━━━━━━━━━━━━━━━━━━━╇━━━━━━━━━━━━━━━━━━━━━━━━╇━━━━━━━━━━━━━━━━╇━━━━━━━━━━━━━━━━━━━━━━━━┩\n",
              "│ input_layer (\u001b[38;5;33mInputLayer\u001b[0m)  │ (\u001b[38;5;45mNone\u001b[0m, \u001b[38;5;34m8\u001b[0m, \u001b[38;5;34m8\u001b[0m, \u001b[38;5;34m6\u001b[0m)        │              \u001b[38;5;34m0\u001b[0m │ -                      │\n",
              "├───────────────────────────┼────────────────────────┼────────────────┼────────────────────────┤\n",
              "│ conv2d (\u001b[38;5;33mConv2D\u001b[0m)           │ (\u001b[38;5;45mNone\u001b[0m, \u001b[38;5;34m8\u001b[0m, \u001b[38;5;34m8\u001b[0m, \u001b[38;5;34m32\u001b[0m)       │          \u001b[38;5;34m1,760\u001b[0m │ input_layer[\u001b[38;5;34m0\u001b[0m][\u001b[38;5;34m0\u001b[0m]      │\n",
              "├───────────────────────────┼────────────────────────┼────────────────┼────────────────────────┤\n",
              "│ conv2d_1 (\u001b[38;5;33mConv2D\u001b[0m)         │ (\u001b[38;5;45mNone\u001b[0m, \u001b[38;5;34m8\u001b[0m, \u001b[38;5;34m8\u001b[0m, \u001b[38;5;34m64\u001b[0m)       │         \u001b[38;5;34m18,496\u001b[0m │ conv2d[\u001b[38;5;34m0\u001b[0m][\u001b[38;5;34m0\u001b[0m]           │\n",
              "├───────────────────────────┼────────────────────────┼────────────────┼────────────────────────┤\n",
              "│ conv2d_2 (\u001b[38;5;33mConv2D\u001b[0m)         │ (\u001b[38;5;45mNone\u001b[0m, \u001b[38;5;34m8\u001b[0m, \u001b[38;5;34m8\u001b[0m, \u001b[38;5;34m64\u001b[0m)       │         \u001b[38;5;34m36,928\u001b[0m │ conv2d_1[\u001b[38;5;34m0\u001b[0m][\u001b[38;5;34m0\u001b[0m]         │\n",
              "├───────────────────────────┼────────────────────────┼────────────────┼────────────────────────┤\n",
              "│ flatten (\u001b[38;5;33mFlatten\u001b[0m)         │ (\u001b[38;5;45mNone\u001b[0m, \u001b[38;5;34m4096\u001b[0m)           │              \u001b[38;5;34m0\u001b[0m │ conv2d_2[\u001b[38;5;34m0\u001b[0m][\u001b[38;5;34m0\u001b[0m]         │\n",
              "├───────────────────────────┼────────────────────────┼────────────────┼────────────────────────┤\n",
              "│ output1 (\u001b[38;5;33mDense\u001b[0m)           │ (\u001b[38;5;45mNone\u001b[0m, \u001b[38;5;34m64\u001b[0m)             │        \u001b[38;5;34m262,208\u001b[0m │ flatten[\u001b[38;5;34m0\u001b[0m][\u001b[38;5;34m0\u001b[0m]          │\n",
              "├───────────────────────────┼────────────────────────┼────────────────┼────────────────────────┤\n",
              "│ output2 (\u001b[38;5;33mDense\u001b[0m)           │ (\u001b[38;5;45mNone\u001b[0m, \u001b[38;5;34m64\u001b[0m)             │        \u001b[38;5;34m262,208\u001b[0m │ flatten[\u001b[38;5;34m0\u001b[0m][\u001b[38;5;34m0\u001b[0m]          │\n",
              "└───────────────────────────┴────────────────────────┴────────────────┴────────────────────────┘\n"
            ],
            "text/html": [
              "<pre style=\"white-space:pre;overflow-x:auto;line-height:normal;font-family:Menlo,'DejaVu Sans Mono',consolas,'Courier New',monospace\">┏━━━━━━━━━━━━━━━━━━━━━━━━━━━┳━━━━━━━━━━━━━━━━━━━━━━━━┳━━━━━━━━━━━━━━━━┳━━━━━━━━━━━━━━━━━━━━━━━━┓\n",
              "┃<span style=\"font-weight: bold\"> Layer (type)              </span>┃<span style=\"font-weight: bold\"> Output Shape           </span>┃<span style=\"font-weight: bold\">        Param # </span>┃<span style=\"font-weight: bold\"> Connected to           </span>┃\n",
              "┡━━━━━━━━━━━━━━━━━━━━━━━━━━━╇━━━━━━━━━━━━━━━━━━━━━━━━╇━━━━━━━━━━━━━━━━╇━━━━━━━━━━━━━━━━━━━━━━━━┩\n",
              "│ input_layer (<span style=\"color: #0087ff; text-decoration-color: #0087ff\">InputLayer</span>)  │ (<span style=\"color: #00d7ff; text-decoration-color: #00d7ff\">None</span>, <span style=\"color: #00af00; text-decoration-color: #00af00\">8</span>, <span style=\"color: #00af00; text-decoration-color: #00af00\">8</span>, <span style=\"color: #00af00; text-decoration-color: #00af00\">6</span>)        │              <span style=\"color: #00af00; text-decoration-color: #00af00\">0</span> │ -                      │\n",
              "├───────────────────────────┼────────────────────────┼────────────────┼────────────────────────┤\n",
              "│ conv2d (<span style=\"color: #0087ff; text-decoration-color: #0087ff\">Conv2D</span>)           │ (<span style=\"color: #00d7ff; text-decoration-color: #00d7ff\">None</span>, <span style=\"color: #00af00; text-decoration-color: #00af00\">8</span>, <span style=\"color: #00af00; text-decoration-color: #00af00\">8</span>, <span style=\"color: #00af00; text-decoration-color: #00af00\">32</span>)       │          <span style=\"color: #00af00; text-decoration-color: #00af00\">1,760</span> │ input_layer[<span style=\"color: #00af00; text-decoration-color: #00af00\">0</span>][<span style=\"color: #00af00; text-decoration-color: #00af00\">0</span>]      │\n",
              "├───────────────────────────┼────────────────────────┼────────────────┼────────────────────────┤\n",
              "│ conv2d_1 (<span style=\"color: #0087ff; text-decoration-color: #0087ff\">Conv2D</span>)         │ (<span style=\"color: #00d7ff; text-decoration-color: #00d7ff\">None</span>, <span style=\"color: #00af00; text-decoration-color: #00af00\">8</span>, <span style=\"color: #00af00; text-decoration-color: #00af00\">8</span>, <span style=\"color: #00af00; text-decoration-color: #00af00\">64</span>)       │         <span style=\"color: #00af00; text-decoration-color: #00af00\">18,496</span> │ conv2d[<span style=\"color: #00af00; text-decoration-color: #00af00\">0</span>][<span style=\"color: #00af00; text-decoration-color: #00af00\">0</span>]           │\n",
              "├───────────────────────────┼────────────────────────┼────────────────┼────────────────────────┤\n",
              "│ conv2d_2 (<span style=\"color: #0087ff; text-decoration-color: #0087ff\">Conv2D</span>)         │ (<span style=\"color: #00d7ff; text-decoration-color: #00d7ff\">None</span>, <span style=\"color: #00af00; text-decoration-color: #00af00\">8</span>, <span style=\"color: #00af00; text-decoration-color: #00af00\">8</span>, <span style=\"color: #00af00; text-decoration-color: #00af00\">64</span>)       │         <span style=\"color: #00af00; text-decoration-color: #00af00\">36,928</span> │ conv2d_1[<span style=\"color: #00af00; text-decoration-color: #00af00\">0</span>][<span style=\"color: #00af00; text-decoration-color: #00af00\">0</span>]         │\n",
              "├───────────────────────────┼────────────────────────┼────────────────┼────────────────────────┤\n",
              "│ flatten (<span style=\"color: #0087ff; text-decoration-color: #0087ff\">Flatten</span>)         │ (<span style=\"color: #00d7ff; text-decoration-color: #00d7ff\">None</span>, <span style=\"color: #00af00; text-decoration-color: #00af00\">4096</span>)           │              <span style=\"color: #00af00; text-decoration-color: #00af00\">0</span> │ conv2d_2[<span style=\"color: #00af00; text-decoration-color: #00af00\">0</span>][<span style=\"color: #00af00; text-decoration-color: #00af00\">0</span>]         │\n",
              "├───────────────────────────┼────────────────────────┼────────────────┼────────────────────────┤\n",
              "│ output1 (<span style=\"color: #0087ff; text-decoration-color: #0087ff\">Dense</span>)           │ (<span style=\"color: #00d7ff; text-decoration-color: #00d7ff\">None</span>, <span style=\"color: #00af00; text-decoration-color: #00af00\">64</span>)             │        <span style=\"color: #00af00; text-decoration-color: #00af00\">262,208</span> │ flatten[<span style=\"color: #00af00; text-decoration-color: #00af00\">0</span>][<span style=\"color: #00af00; text-decoration-color: #00af00\">0</span>]          │\n",
              "├───────────────────────────┼────────────────────────┼────────────────┼────────────────────────┤\n",
              "│ output2 (<span style=\"color: #0087ff; text-decoration-color: #0087ff\">Dense</span>)           │ (<span style=\"color: #00d7ff; text-decoration-color: #00d7ff\">None</span>, <span style=\"color: #00af00; text-decoration-color: #00af00\">64</span>)             │        <span style=\"color: #00af00; text-decoration-color: #00af00\">262,208</span> │ flatten[<span style=\"color: #00af00; text-decoration-color: #00af00\">0</span>][<span style=\"color: #00af00; text-decoration-color: #00af00\">0</span>]          │\n",
              "└───────────────────────────┴────────────────────────┴────────────────┴────────────────────────┘\n",
              "</pre>\n"
            ]
          },
          "metadata": {}
        },
        {
          "output_type": "display_data",
          "data": {
            "text/plain": [
              "\u001b[1m Total params: \u001b[0m\u001b[38;5;34m581,600\u001b[0m (2.22 MB)\n"
            ],
            "text/html": [
              "<pre style=\"white-space:pre;overflow-x:auto;line-height:normal;font-family:Menlo,'DejaVu Sans Mono',consolas,'Courier New',monospace\"><span style=\"font-weight: bold\"> Total params: </span><span style=\"color: #00af00; text-decoration-color: #00af00\">581,600</span> (2.22 MB)\n",
              "</pre>\n"
            ]
          },
          "metadata": {}
        },
        {
          "output_type": "display_data",
          "data": {
            "text/plain": [
              "\u001b[1m Trainable params: \u001b[0m\u001b[38;5;34m581,600\u001b[0m (2.22 MB)\n"
            ],
            "text/html": [
              "<pre style=\"white-space:pre;overflow-x:auto;line-height:normal;font-family:Menlo,'DejaVu Sans Mono',consolas,'Courier New',monospace\"><span style=\"font-weight: bold\"> Trainable params: </span><span style=\"color: #00af00; text-decoration-color: #00af00\">581,600</span> (2.22 MB)\n",
              "</pre>\n"
            ]
          },
          "metadata": {}
        },
        {
          "output_type": "display_data",
          "data": {
            "text/plain": [
              "\u001b[1m Non-trainable params: \u001b[0m\u001b[38;5;34m0\u001b[0m (0.00 B)\n"
            ],
            "text/html": [
              "<pre style=\"white-space:pre;overflow-x:auto;line-height:normal;font-family:Menlo,'DejaVu Sans Mono',consolas,'Courier New',monospace\"><span style=\"font-weight: bold\"> Non-trainable params: </span><span style=\"color: #00af00; text-decoration-color: #00af00\">0</span> (0.00 B)\n",
              "</pre>\n"
            ]
          },
          "metadata": {}
        }
      ],
      "source": [
        "baseline_model.summary()"
      ]
    },
    {
      "cell_type": "code",
      "execution_count": null,
      "id": "f160b4ab-575b-420f-a9f0-2d9aa97e64f9",
      "metadata": {
        "id": "f160b4ab-575b-420f-a9f0-2d9aa97e64f9"
      },
      "outputs": [],
      "source": [
        "bsm_history = baseline_model.fit(train_data, [train_labels[:,0,:], train_labels[:,1,:]], epochs=10, validation_split=0.1)"
      ]
    },
    {
      "cell_type": "code",
      "execution_count": 35,
      "id": "eb029387-bae3-4f78-93f4-d9a47b4e9b3a",
      "metadata": {
        "colab": {
          "base_uri": "https://localhost:8080/"
        },
        "id": "eb029387-bae3-4f78-93f4-d9a47b4e9b3a",
        "outputId": "1e4d390c-1aee-4f29-dbdd-9792182e853c"
      },
      "outputs": [
        {
          "output_type": "stream",
          "name": "stdout",
          "text": [
            "\u001b[1m469/469\u001b[0m \u001b[32m━━━━━━━━━━━━━━━━━━━━\u001b[0m\u001b[37m\u001b[0m \u001b[1m1s\u001b[0m 1ms/step\n"
          ]
        }
      ],
      "source": [
        "bsm_predict = baseline_model.predict(test_data)"
      ]
    },
    {
      "cell_type": "code",
      "source": [
        "move_from_pred = np.argmax(bsm_predict[0], axis=-1)\n",
        "move_to_pred = np.argmax(bsm_predict[1], axis=-1)"
      ],
      "metadata": {
        "id": "KBJfXx0m9w62"
      },
      "id": "KBJfXx0m9w62",
      "execution_count": 46,
      "outputs": []
    },
    {
      "cell_type": "code",
      "source": [
        "move_from_pred[0], move_to_pred[0]"
      ],
      "metadata": {
        "colab": {
          "base_uri": "https://localhost:8080/"
        },
        "id": "MEDwZ8_6-brB",
        "outputId": "175a4d6e-9872-4056-9fa2-2b560993c73e"
      },
      "id": "MEDwZ8_6-brB",
      "execution_count": 62,
      "outputs": [
        {
          "output_type": "execute_result",
          "data": {
            "text/plain": [
              "(12, 28)"
            ]
          },
          "metadata": {},
          "execution_count": 62
        }
      ]
    },
    {
      "cell_type": "code",
      "source": [],
      "metadata": {
        "id": "wMZ3g_P3_Vad"
      },
      "id": "wMZ3g_P3_Vad",
      "execution_count": null,
      "outputs": []
    }
  ],
  "metadata": {
    "kernelspec": {
      "display_name": "Python 3",
      "name": "python3"
    },
    "language_info": {
      "codemirror_mode": {
        "name": "ipython",
        "version": 3
      },
      "file_extension": ".py",
      "mimetype": "text/x-python",
      "name": "python",
      "nbconvert_exporter": "python",
      "pygments_lexer": "ipython3",
      "version": "3.12.4"
    },
    "colab": {
      "provenance": [],
      "gpuType": "T4"
    },
    "accelerator": "GPU"
  },
  "nbformat": 4,
  "nbformat_minor": 5
}