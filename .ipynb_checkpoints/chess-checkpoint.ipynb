{
 "cells": [
  {
   "cell_type": "code",
   "execution_count": 1,
   "id": "4d1061bf-d24d-4f28-8efc-faec104f3e9a",
   "metadata": {
    "colab": {
     "base_uri": "https://localhost:8080/"
    },
    "id": "4d1061bf-d24d-4f28-8efc-faec104f3e9a",
    "outputId": "b1ae6593-2ea0-45e2-e60f-d3f00f9ad143"
   },
   "outputs": [],
   "source": [
    "from datasets import load_dataset\n",
    "import pandas as pd\n",
    "import chess\n",
    "import numpy as np\n",
    "import tensorflow as tf\n",
    "\n",
    "subset = load_dataset(\"parquet\", data_dir=\"C:\\\\Users\\\\Dell\\\\Desktop\\\\chess-neural-network\", data_files={'train':'chess_game_0001.parquet'})\n",
    "df = subset[\"train\"].to_pandas()"
   ]
  },
  {
   "cell_type": "code",
   "execution_count": 2,
   "id": "dbd6a97a-55ba-458e-8155-8c991e60a1c8",
   "metadata": {
    "id": "dbd6a97a-55ba-458e-8155-8c991e60a1c8"
   },
   "outputs": [],
   "source": [
    "df_moves = df[\"Moves\"].apply(lambda x: [str(i) for i in x])"
   ]
  },
  {
   "cell_type": "code",
   "execution_count": 3,
   "id": "5a104131-f99f-49dc-80cf-dc1f0cca886e",
   "metadata": {
    "id": "5a104131-f99f-49dc-80cf-dc1f0cca886e"
   },
   "outputs": [],
   "source": [
    "moves_array = np.array(df_moves)"
   ]
  },
  {
   "cell_type": "code",
   "execution_count": 4,
   "id": "198b8107-8465-4ce1-a1d2-26ff456e934c",
   "metadata": {
    "id": "198b8107-8465-4ce1-a1d2-26ff456e934c"
   },
   "outputs": [],
   "source": [
    "boards = []\n",
    "moves = []\n",
    "for board_moves in moves_array[:1000000]:\n",
    "    board = chess.Board()\n",
    "    board_states = []\n",
    "    board_states_labels = []\n",
    "    for move_str in board_moves[:10]:\n",
    "        move = chess.Move.from_uci(move_str)\n",
    "        move_from = move.from_square\n",
    "        move_to = move.to_square\n",
    "        board_states_labels.append((move_from, move_to))\n",
    "        board_states.append(board.copy())\n",
    "        board.push(move)\n",
    "    moves.append(board_states_labels[::2])\n",
    "    boards.append(board_states[::2])"
   ]
  },
  {
   "cell_type": "code",
   "execution_count": 5,
   "id": "d434facf-51a8-493f-8f72-3f17e9bdc480",
   "metadata": {},
   "outputs": [],
   "source": [
    "to_be_removed = []\n",
    "for i in range(len(boards)):\n",
    "    if len(boards[i]) != 5:\n",
    "        to_be_removed.append(i)\n",
    "        \n",
    "for index in sorted(to_be_removed, reverse=True):\n",
    "    del boards[index]\n",
    "    del moves[index]"
   ]
  },
  {
   "cell_type": "code",
   "execution_count": 6,
   "id": "d1713a5b-24f4-4c22-a403-ffc1058fa5a4",
   "metadata": {},
   "outputs": [],
   "source": [
    "boards = np.array(boards)\n",
    "moves = np.array(moves)\n",
    "boards = boards.flatten()\n",
    "moves = moves.reshape(-1, moves.shape[-1])"
   ]
  },
  {
   "cell_type": "code",
   "execution_count": 7,
   "id": "e63dbdb0-7409-49ca-9361-be3723626f71",
   "metadata": {
    "id": "e63dbdb0-7409-49ca-9361-be3723626f71"
   },
   "outputs": [],
   "source": [
    "data = np.array(boards).astype(str)"
   ]
  },
  {
   "cell_type": "code",
   "execution_count": 8,
   "id": "cdde5f3a-3bf1-448e-beae-5b1891f237d6",
   "metadata": {
    "id": "cdde5f3a-3bf1-448e-beae-5b1891f237d6"
   },
   "outputs": [],
   "source": [
    "one_hot_mapping = {\".\": np.array([0,0,0,0,0,0]),\n",
    "                   \"P\": np.array([1,0,0,0,0,0]),\n",
    "                   \"N\": np.array([0,1,0,0,0,0]),\n",
    "                   \"B\": np.array([0,0,1,0,0,0]),\n",
    "                   \"R\": np.array([0,0,0,1,0,0]),\n",
    "                   \"Q\": np.array([0,0,0,0,1,0]),\n",
    "                   \"K\": np.array([0,0,0,0,0,1]),\n",
    "                   \"p\": np.array([-1,0,0,0,0,0]),\n",
    "                   \"n\": np.array([0,-1,0,0,0,0]),\n",
    "                   \"b\": np.array([0,0,-1,0,0,0]),\n",
    "                   \"r\": np.array([0,0,0,-1,0,0]),\n",
    "                   \"q\": np.array([0,0,0,0,-1,0]),\n",
    "                   \"k\": np.array([0,0,0,0,0,-1])}\n",
    "games_data = []\n",
    "games_labels = []\n",
    "for i in range(len(data)):\n",
    "    data_split = np.array([row.split() for row in data[i].split(\"\\n\")])\n",
    "    labels_split = tf.keras.utils.to_categorical(moves[i], num_classes=64)\n",
    "    data_encoded_state = np.zeros([8, 8, 6])\n",
    "    for char, encoding in one_hot_mapping.items():\n",
    "            data_encoded_state[data_split == char] = encoding\n",
    "    games_data.append(np.array(data_encoded_state))\n",
    "    games_labels.append(labels_split)\n",
    "\n",
    "train_data = tf.constant(games_data[0 : int(len(games_data) * .70)])\n",
    "train_labels = tf.constant(games_labels[0 : int(len(games_labels) * .70)])\n",
    "test_data = tf.constant(games_data[int(len(games_data) * .70) : len(games_data)])\n",
    "test_labels = tf.constant(games_labels[int(len(games_labels) * .70) : len(games_labels)])"
   ]
  },
  {
   "cell_type": "code",
   "execution_count": 9,
   "id": "871d6d74-ed01-4f63-9ff0-f04e5aeeb036",
   "metadata": {
    "colab": {
     "base_uri": "https://localhost:8080/"
    },
    "id": "871d6d74-ed01-4f63-9ff0-f04e5aeeb036",
    "outputId": "a2c7cb4c-7336-4e51-db2b-3dfe236a57b2"
   },
   "outputs": [
    {
     "data": {
      "text/plain": [
       "(TensorShape([3499989, 8, 8, 6]),\n",
       " TensorShape([3499989, 2, 64]),\n",
       " TensorShape([1499996, 8, 8, 6]),\n",
       " TensorShape([1499996, 2, 64]))"
      ]
     },
     "execution_count": 9,
     "metadata": {},
     "output_type": "execute_result"
    }
   ],
   "source": [
    "train_data.shape, train_labels.shape, test_data.shape, test_labels.shape"
   ]
  },
  {
   "cell_type": "code",
   "execution_count": 10,
   "id": "d93e646a-1210-4138-b2bc-a7c5e70108f3",
   "metadata": {
    "id": "d93e646a-1210-4138-b2bc-a7c5e70108f3"
   },
   "outputs": [],
   "source": [
    "input_layer = tf.keras.layers.Input(shape=(8,8,6))\n",
    "x = tf.keras.layers.Conv2D(32, (3, 3), activation='relu', padding='same', strides=1)(input_layer)\n",
    "x = tf.keras.layers.Conv2D(64, (3, 3), activation='relu', padding='same', strides=1)(x)\n",
    "x = tf.keras.layers.Conv2D(64, (3, 3), activation='relu', padding='same', strides=1)(x)\n",
    "x = tf.keras.layers.Flatten()(x)\n",
    "output1 = tf.keras.layers.Dense(64, activation=\"softmax\", name=\"output1\")(x)\n",
    "output2 = tf.keras.layers.Dense(64, activation=\"softmax\", name=\"output2\")(x)\n",
    "\n",
    "baseline_model = tf.keras.Model(inputs=input_layer, outputs=[output1, output2])\n",
    "\n",
    "baseline_model.compile(optimizer='adam', loss='categorical_crossentropy', metrics=['accuracy', 'accuracy'])"
   ]
  },
  {
   "cell_type": "code",
   "execution_count": 11,
   "id": "f160b4ab-575b-420f-a9f0-2d9aa97e64f9",
   "metadata": {
    "id": "f160b4ab-575b-420f-a9f0-2d9aa97e64f9"
   },
   "outputs": [
    {
     "name": "stdout",
     "output_type": "stream",
     "text": [
      "Epoch 1/2\n",
      "\u001b[1m98438/98438\u001b[0m \u001b[32m━━━━━━━━━━━━━━━━━━━━\u001b[0m\u001b[37m\u001b[0m \u001b[1m1320s\u001b[0m 13ms/step - loss: 2.1100 - output1_accuracy: 0.6244 - output1_loss: 1.0116 - output2_accuracy: 0.6049 - output2_loss: 1.0984 - val_loss: 1.9459 - val_output1_accuracy: 0.6435 - val_output1_loss: 0.9355 - val_output2_accuracy: 0.6247 - val_output2_loss: 1.0103\n",
      "Epoch 2/2\n",
      "\u001b[1m98438/98438\u001b[0m \u001b[32m━━━━━━━━━━━━━━━━━━━━\u001b[0m\u001b[37m\u001b[0m \u001b[1m3908s\u001b[0m 40ms/step - loss: 1.9389 - output1_accuracy: 0.6462 - output1_loss: 0.9315 - output2_accuracy: 0.6276 - output2_loss: 1.0074 - val_loss: 1.9479 - val_output1_accuracy: 0.6460 - val_output1_loss: 0.9354 - val_output2_accuracy: 0.6286 - val_output2_loss: 1.0125\n"
     ]
    }
   ],
   "source": [
    "bsm_history = baseline_model.fit(train_data, [train_labels[:,0,:], train_labels[:,1,:]], epochs=2, validation_split=0.1)"
   ]
  },
  {
   "cell_type": "code",
   "execution_count": 48,
   "id": "f5869ecd-1c0c-421c-a397-da095889cf0b",
   "metadata": {},
   "outputs": [],
   "source": [
    "def predict_from_board(board):\n",
    "    board_data = np.array([board]).astype(str)\n",
    "    data_split = np.array([row.split() for row in board_data[0].split(\"\\n\")])\n",
    "    data_encoded_state = np.zeros([8, 8, 6])\n",
    "    for char, encoding in one_hot_mapping.items():\n",
    "            data_encoded_state[data_split == char] = encoding\n",
    "    tensor_data = np.expand_dims(np.array(data_encoded_state), 0)\n",
    "    tensor = tf.constant(tensor_data)\n",
    "    test_pred = baseline_model.predict(tensor)\n",
    "    move_from_pred = np.argmax(test_pred[0], axis=-1)\n",
    "    move_to_pred = np.argmax(test_pred[1], axis=-1)\n",
    "    return (chess.square_name(move_from_pred[0]), chess.square_name(move_to_pred[0]))"
   ]
  },
  {
   "cell_type": "code",
   "execution_count": null,
   "id": "4cd258d2-16eb-475d-9609-81335bfd058d",
   "metadata": {},
   "outputs": [],
   "source": []
  }
 ],
 "metadata": {
  "accelerator": "GPU",
  "colab": {
   "gpuType": "T4",
   "provenance": []
  },
  "kernelspec": {
   "display_name": "Python 3 (ipykernel)",
   "language": "python",
   "name": "python3"
  },
  "language_info": {
   "codemirror_mode": {
    "name": "ipython",
    "version": 3
   },
   "file_extension": ".py",
   "mimetype": "text/x-python",
   "name": "python",
   "nbconvert_exporter": "python",
   "pygments_lexer": "ipython3",
   "version": "3.12.4"
  }
 },
 "nbformat": 4,
 "nbformat_minor": 5
}
